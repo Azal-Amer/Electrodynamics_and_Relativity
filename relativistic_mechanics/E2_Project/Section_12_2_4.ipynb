{
 "cells": [
  {
   "cell_type": "markdown",
   "id": "5410de56",
   "metadata": {},
   "source": [
    "# Section 12.2.4 Relativistic Dynamics"
   ]
  },
  {
   "cell_type": "markdown",
   "id": "e1877511",
   "metadata": {},
   "source": [
    "![GOATs](12_2_images/Solvay_conference_1927.jpg)"
   ]
  },
  {
   "cell_type": "markdown",
   "id": "44da8417",
   "metadata": {},
   "source": [
    "Newton's second law $\\bold{F}=\\frac{d\\bold{p}}{dt}$ can be extrapolated to relativity by using the relativistic momentum."
   ]
  },
  {
   "cell_type": "code",
   "execution_count": null,
   "id": "e131ae55",
   "metadata": {},
   "outputs": [
    {
     "data": {
      "application/vnd.jupyter.widget-view+json": {
       "model_id": "992c3c41fe8a4c12b54da0b3c7f80770",
       "version_major": 2,
       "version_minor": 0
      },
      "text/plain": [
       "interactive(children=(FloatSlider(value=1.0, description='Mass m', max=10.0, min=0.1), FloatSlider(value=1.0, …"
      ]
     },
     "metadata": {},
     "output_type": "display_data"
    }
   ],
   "source": [
    "import numpy as np\n",
    "import matplotlib.pyplot as plt\n",
    "from ipywidgets import interact, FloatSlider\n",
    "\n",
    "c = 1  # speed of light in natural units so that we can look at shape\n",
    "\n",
    "def x_t(t, m, F):\n",
    "    return (m * c**2 / F) * (np.sqrt(1 + (F * t / (m * c))**2) - 1)\n",
    "\n",
    "# spacetime diagram\n",
    "def plot_spacetime(m=1.0, F=1.0):\n",
    "    t_vals = np.linspace(0, 10, 1000)  # time in natural units (ct)\n",
    "    x_vals = x_t(t_vals, m, F)\n",
    "    \n",
    "    plt.figure(figsize=(8, 6))\n",
    "    plt.plot(x_vals, t_vals, label=f'm = {m}, F = {F}')\n",
    "    plt.xlabel('x')\n",
    "    plt.ylabel('ct')\n",
    "    plt.title('Spacetime Diagram of a Relativistically Accelerated Particle (Constant Force)')\n",
    "    plt.grid(True)\n",
    "    plt.legend()\n",
    "    plt.axis('equal') \n",
    "    plt.show()\n",
    "\n",
    "#  controls\n",
    "interact(\n",
    "    plot_spacetime,\n",
    "    m=FloatSlider(value=1.0, min=0.1, max=10.0, step=0.1, description='Mass m'),\n",
    "    F=FloatSlider(value=1.0, min=0.1, max=10.0, step=0.1, description='Force F')\n",
    ");\n"
   ]
  },
  {
   "cell_type": "markdown",
   "id": "e21bf079",
   "metadata": {},
   "source": [
    "Newton's 3rd law, as we find out, does not hold in Special Relativity. This should be disappointing but not too surprising, especially when we recall that the same is true for an accelerating point charge and stationary point charge: the forces they exert on each other are not equal and opposite. The separation of time and space renders it compatible with the theory."
   ]
  },
  {
   "cell_type": "markdown",
   "id": "cd2b2b54",
   "metadata": {},
   "source": [
    "As we found with proper and ordinary velocity, we can define a proper force (called Minkowski force)\n",
    "$$\n",
    "K^\\mu = \\frac{dp^\\mu}{d\\tau}\n",
    "$$\n",
    "where the spatial components are related by\n",
    "$$\n",
    "\\bold{K} = \\frac{1}{\\sqrt{1-u^2/c^2}}\\bold{F}\n",
    "$$\n",
    "As we will see later, the Lorentz force turns out to be an ordinary force, and we cannot use this nice Minkowski force here."
   ]
  }
 ],
 "metadata": {
  "kernelspec": {
   "display_name": "Electro2",
   "language": "python",
   "name": "python3"
  },
  "language_info": {
   "codemirror_mode": {
    "name": "ipython",
    "version": 3
   },
   "file_extension": ".py",
   "mimetype": "text/x-python",
   "name": "python",
   "nbconvert_exporter": "python",
   "pygments_lexer": "ipython3",
   "version": "3.11.11"
  }
 },
 "nbformat": 4,
 "nbformat_minor": 5
}
