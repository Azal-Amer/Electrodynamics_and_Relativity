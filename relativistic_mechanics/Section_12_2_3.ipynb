{
 "cells": [
  {
   "cell_type": "markdown",
   "id": "30170f84",
   "metadata": {},
   "source": [
    "# Section 12.2.3: Relativistic Kinematics"
   ]
  },
  {
   "cell_type": "markdown",
   "id": "e6645ec7",
   "metadata": {},
   "source": [
    "![Trump Einstein](12_2_images/trump_dark_matter.jpeg)"
   ]
  },
  {
   "cell_type": "markdown",
   "id": "3e260405",
   "metadata": {},
   "source": [
    "Now we shall explore the effects of our scared conservation laws (energy and momentum). With our definitions of relativistic energy and momentum in example 12.7, we carry through a similar procedure as in classical mechanics. We discover that mass is not conserved due to the fact that internal energy contributes to the mass of the object\n",
    "\n",
    "This has profound consequences at the particle level. Whereas in classical mechanics, the mass of an object is the sum of the masses of constituent particles $M=\\sum m_i$, the mass of a proton, for example, is NOT the sum of its valence quarks. In fact, the rest masses of the quarks (2 up, 1 down) make up only about 1% of the proton's mass. The rest of the mass comes from energy in the gluon fields (what holds the quarks together) and quantum chromodynamics (QCD) effects. "
   ]
  },
  {
   "cell_type": "markdown",
   "id": "8dff7db1",
   "metadata": {},
   "source": [
    "![proton quarks](quark_structure_proton.png)"
   ]
  },
  {
   "cell_type": "markdown",
   "id": "9a9cfcaa",
   "metadata": {},
   "source": [
    "For reference (recall that we are using natural units):\n",
    "* up quark- 2.2 MeV\n",
    "* down quark- 4.7 MeV\n",
    "* proton- 938 MeV"
   ]
  },
  {
   "cell_type": "markdown",
   "id": "3bfa2d5b",
   "metadata": {},
   "source": [
    "### BONUS!"
   ]
  },
  {
   "cell_type": "markdown",
   "id": "6c15d053",
   "metadata": {},
   "source": [
    "Let's consider a system of particles and explore the implications of the Lorentz invariance of $E^2-\\bold{p}^2=m^2$. Since $p^\\mu$ undergoes Lorentz transformations in a similar fashion as $x^\\mu$, we have that $p^\\mu p_\\mu$ is invariant.\n",
    "\n",
    "These vectors in 4-dimensional spacetime can be summed; for a system of n particles, we have:\n",
    "$$\n",
    "p^\\mu = \\sum_{i=1}^n p_i^\\mu\n",
    "$$"
   ]
  },
  {
   "cell_type": "markdown",
   "id": "bb37f301",
   "metadata": {},
   "source": [
    "Combining, we get the \"invariant mass\" for a system of particles:\n",
    "$$\n",
    "p^\\mu p_\\mu = (\\sum_{i=1}^{n}E_i)^2 - (\\sum_{i=1}^{n}\\bold{p}_i)^2\n",
    "$$\n",
    "which is relevant especially when discussing the decays of particles. Let me paint the picture: at CERN, protons are smashed together at near the speed of light, providing enough energy to form other massive particles (mass-energy equivalence). Some of these particles decay faster than they can reach the detectors; therefore, we cannot see them on their own. However, if we see their decay prodcuts, we can use the invariant mass formula to reconstruct the mass of the decayed particle. \n",
    "\n",
    "Let's see an example of this using pythia8, a Monte Carlo event generator that can be used to simulate proton-proton collisions."
   ]
  },
  {
   "cell_type": "code",
   "execution_count": null,
   "id": "d934edc7",
   "metadata": {},
   "outputs": [],
   "source": [
    "# If you would like to figure out how to download pythia8, go ahead (it's really fun to experiment with). \n",
    "# It can sometimes be painful to install, but maybe I'm just being dramatic since it's not a simple pip install.\n",
    "\n",
    "# import pythia8\n",
    "# import numpy as np\n",
    "# import matplotlib.pyplot as plt\n",
    "\n",
    "# pythia = pythia8.Pythia()\n",
    "# pythia.readString(\"Beams:idA = 2212\")  # proton ID\n",
    "# pythia.readString(\"Beams:idB = 2212\")\n",
    "# pythia.readString(\"Beams:eCM = 10.\")   # Low energy, soft QCD\n",
    "# pythia.readString(\"SoftQCD:nonDiffractive = on\")\n",
    "# pythia.init()\n",
    "\n",
    "# n_events = 100000\n",
    "# masses = []\n",
    "\n",
    "# for i in range(n_events):\n",
    "#     if not pythia.next(): continue\n",
    "\n",
    "#     # Collect all pi+ and pi- in the final state\n",
    "#     piplus = []\n",
    "#     piminus = []\n",
    "#     for i in range(pythia.event.size()):\n",
    "#         p = pythia.event[i]\n",
    "#         if not p.isFinal(): continue\n",
    "#         if p.id() == 211: piplus.append(p)\n",
    "#         if p.id() == -211: piminus.append(p)\n",
    "\n",
    "#     # Form all pi+ pi- pairs and compute invariant mass\n",
    "#     for pi_p in piplus:\n",
    "#         for pi_m in piminus:\n",
    "#             e = pi_p.e() + pi_m.e()\n",
    "#             px = pi_p.px() + pi_m.px()\n",
    "#             py = pi_p.py() + pi_m.py()\n",
    "#             pz = pi_p.pz() + pi_m.pz()\n",
    "#             m2 = e**2 - (px**2 + py**2 + pz**2)\n",
    "#             if m2 > 0:\n",
    "#                 masses.append(np.sqrt(m2))\n",
    "\n",
    "# pythia.stat()\n",
    "\n",
    "# plt.hist(masses, bins=200, range=(0, 1.5), histtype='step', color='blue')\n",
    "# plt.title(r\"Invariant mass of $\\pi^+\\pi^-$ pairs\")\n",
    "# plt.xlabel(r\"$m_{\\pi^+\\pi^-}$ [GeV]\")\n",
    "# plt.ylabel(\"Counts\")\n",
    "# plt.axvspan(0.4, 0.6, color='red', alpha=0.2, label=r'$\\sigma$ region')\n",
    "# plt.legend()\n",
    "# plt.grid(True)\n",
    "# plt.tight_layout()\n",
    "# plt.savefig(\"pipi_invariant_mass.pdf\")\n",
    "# print(\"Plot saved as pipi_invariant_mass.pdf\")"
   ]
  },
  {
   "cell_type": "markdown",
   "id": "f4a05d7a",
   "metadata": {},
   "source": [
    "![inv mass](12_2_images/inv_mass_pi_pi.png)"
   ]
  },
  {
   "cell_type": "markdown",
   "id": "44028802",
   "metadata": {},
   "source": [
    "What we have done here is take pions and reconstrcut the invariant mass using (simulated) data from the detector. The large peak that you see right around 500 GeV is due to the kaon, which weakly decays into pi plus and pi minus. The large number of counts suggests that a significant number of kaons proceed via this decay. In the broad region shaded in red, we can see a wide distribtuion---a signficant chunk of this is due to a niche meson called the sigma meson. It's primarily responsible for quantum hadrodynamics and strong nuclear reactions (between nucleons, as opposed to just strong interactions between quarks that are mediated by gluons)."
   ]
  },
  {
   "cell_type": "markdown",
   "id": "c75185fc",
   "metadata": {},
   "source": [
    "However, the distribution for the kaon is much sharper than that of the sigma meson. The reason for this is due to time-energy uncertainty. The kaon lifetime is large, on the order of 10^-8 s, whereas the lifetime of the sigma meson is on the order of 10^-23 s. This miniscule lifetime leads to a much greater uncertainty in its energy, which is refelected above. Very complex methods are needed to find its mass (literally, complex analysis and analytic continuation using dispersion relations)."
   ]
  },
  {
   "cell_type": "markdown",
   "id": "6dcc4b0b",
   "metadata": {},
   "source": [
    "Feel free to implement the code and change the particles you are looking for. Perhaps try reconstructing the three-pronged decay of the D0 meson to $K^- \\pi^+ \\pi^0$"
   ]
  }
 ],
 "metadata": {
  "kernelspec": {
   "display_name": "Electro2",
   "language": "python",
   "name": "python3"
  },
  "language_info": {
   "codemirror_mode": {
    "name": "ipython",
    "version": 3
   },
   "file_extension": ".py",
   "mimetype": "text/x-python",
   "name": "python",
   "nbconvert_exporter": "python",
   "pygments_lexer": "ipython3",
   "version": "3.11.11"
  }
 },
 "nbformat": 4,
 "nbformat_minor": 5
}
