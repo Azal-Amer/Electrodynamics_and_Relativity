{
 "cells": [
  {
   "cell_type": "code",
   "execution_count": 1,
   "metadata": {},
   "outputs": [
    {
     "data": {
      "text/plain": [
       "'C:\\\\Users\\\\17135\\\\Downloads\\\\meissner_animation.gif'"
      ]
     },
     "execution_count": 1,
     "metadata": {},
     "output_type": "execute_result"
    }
   ],
   "source": [
    "import numpy as np\n",
    "import matplotlib.pyplot as plt\n",
    "import matplotlib.animation as animation\n",
    "from matplotlib.patches import Circle\n",
    "import os\n",
    "\n",
    "B0 = 1.0           # background magnetic‑field magnitude\n",
    "R  = 1.0           # radius of cylindrical superconductor\n",
    "frames = 30        # number of animation frames\n",
    "cool_rate = 4.0    # how quickly the interior B field is expelled\n",
    "\n",
    "# create artificial linspace\n",
    "x = np.linspace(-2.5, 2.5, 25)\n",
    "y = np.linspace(-2.5, 2.5, 25)\n",
    "X, Y = np.meshgrid(x, y)\n",
    "r = np.sqrt(X**2 + Y**2)\n",
    "\n",
    "fig, ax = plt.subplots(figsize=(5,5))\n",
    "ax.set_aspect('equal')\n",
    "ax.set_xlim(-2.5, 2.5)\n",
    "ax.set_ylim(-2.5, 2.5)\n",
    "ax.set_xlabel(None)\n",
    "ax.set_ylabel(None)\n",
    "ax.set_title('Meissner Effect')\n",
    "\n",
    "# draw superconductor \n",
    "sc_patch = Circle((0,0), R, color='lightgrey', zorder=1)\n",
    "ax.add_patch(sc_patch)\n",
    "\n",
    "# visualize field lines\n",
    "quiv = ax.quiver(X, Y, np.zeros_like(X), np.zeros_like(Y), color='royalblue', pivot='mid', scale=25)\n",
    "\n",
    "text = ax.text(0.02, 0.95, '', transform=ax.transAxes)\n",
    "\n",
    "def field_components(temp):\n",
    "    # B field components which will be expelled\n",
    "    expell = np.exp(-cool_rate * temp)\n",
    "    inside = r < R\n",
    "    Bx = np.zeros_like(r)\n",
    "    By = B0 * np.ones_like(r)\n",
    "    Bx[inside] *= expell\n",
    "    By[inside] *= expell\n",
    "    return Bx, By\n",
    "\n",
    "def update(frame):\n",
    "    temp = frame / (frames-1)\n",
    "    Bx, By = field_components(temp)\n",
    "    quiv.set_UVC(Bx, By)\n",
    "    text.set_text(f'$T/T_c$ = {1-temp:0.2f}')\n",
    "    return quiv, text\n",
    "\n",
    "ani = animation.FuncAnimation(fig, update, frames=frames, interval=120, blit=True)\n",
    "\n",
    "gif_path = os.path.join(\"C:\\\\Users\\\\17135\\\\Downloads\", \"meissner_animation.gif\")\n",
    "ani.save(gif_path, writer=\"pillow\", fps=12)\n",
    "\n",
    "plt.close(fig)\n",
    "\n",
    "gif_path"
   ]
  }
 ],
 "metadata": {
  "kernelspec": {
   "display_name": "Python 3",
   "language": "python",
   "name": "python3"
  },
  "language_info": {
   "codemirror_mode": {
    "name": "ipython",
    "version": 3
   },
   "file_extension": ".py",
   "mimetype": "text/x-python",
   "name": "python",
   "nbconvert_exporter": "python",
   "pygments_lexer": "ipython3",
   "version": "3.9.13"
  }
 },
 "nbformat": 4,
 "nbformat_minor": 2
}
