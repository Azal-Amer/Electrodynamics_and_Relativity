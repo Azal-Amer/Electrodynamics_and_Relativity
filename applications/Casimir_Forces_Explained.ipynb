{
 "cells": [
  {
   "cell_type": "markdown",
   "id": "d9f32f7c",
   "metadata": {},
   "source": [
    "# Casimir Forces"
   ]
  },
  {
   "cell_type": "markdown",
   "id": "30efc158",
   "metadata": {},
   "source": [
    "### Motivation and Intro to QED"
   ]
  },
  {
   "cell_type": "markdown",
   "id": "569b6e69",
   "metadata": {},
   "source": [
    "Perhaps chapter 12 of Griffiths seems to come out of left field, especially since throughout the text we have been working in a strictly classical regime. But recall how we celebrated over eqn 10.74, where we essentially shoved all of classical electrodynamics into one equation. We introduce relativity to encompass a wider scope of electrodynamics, because the goal is always to find the most general, all inclusive theory.\n",
    "\n",
    "Without getting too detailed, we can generalize electrodynamics to the relativistic regime and even the quantum level---this is well described by the theory of quantum electrodynamics (QED). For reference, QED is a quantum field theory that describes how the electromagnetic interaction is mediated by its gauge boson: the photon.\n",
    "\n",
    "Moreover, QED includes a description of the QED vacuum state (the lowest energy / ground state). However, this is a bit of a misnomer. Classically, we understand vacuums according to the literal definition: there are no particles, fields, or anything else. Quantum mechanically, this is untrue, and there can be ripples of quantum fluctuations in the vacuum state; essentially, particles can \"pop out\" of the vacuum for short periods of time. Incorrectly but certainly not naively, one might suggest this is due to Heisnberg's uncertainty principle regarding energy and time. This interpretation is not fully accurate (see https://books.google.com/books?id=kgsBbv3-9xwC&pg=PA224#v=onepage&q&f=false for details), so for now, less we explore the full derivation of QED, it suffices to regard these virtual particles from quantum fluctuations as mathematical artifacts of the theory."
   ]
  },
  {
   "cell_type": "markdown",
   "id": "68392905",
   "metadata": {},
   "source": [
    "<figure>\n",
    "  <img src=\"12_2_images/Dirac-Sea.jpg\" alt=\"Dirac sea\" width=\"500\">\n",
    "</figure>"
   ]
  },
  {
   "cell_type": "markdown",
   "id": "474c720c",
   "metadata": {},
   "source": [
    "<figure>\n",
    "  <img src=\"12_2_images/kj-dirac.jpg\" alt=\"Dirac Pic\" width=\"500\">\n",
    "  <figcaption>For historical reasons, it's fascinating to know about Paul Dirac and his theory of the Dirac sea, a model of the QED vacuum that proposed the vacuum was a sea of electrons with negative energy, where holes in this sea would act as positrons. This was an attempt to reconcile negative energy solutions and explain why there were no positrons to be seen. It has since been displaced by modern and more elegant solutions.</figcaption>\n",
    "</figure>"
   ]
  },
  {
   "cell_type": "markdown",
   "id": "bd6715be",
   "metadata": {},
   "source": [
    "### Measuring Properties of the QED Vacuum"
   ]
  },
  {
   "cell_type": "markdown",
   "id": "a81a74b5",
   "metadata": {},
   "source": [
    "The QED vacuum as predicted by the theory must then be measured experimentally in order for the theory to retain its validity (as an aside, this is the current issue with string theory; as far as the author knows, there are currently no direct tests of it). In around the 1950s, such an experiment was devised by Hendrik Casimir. Let's consider the scenario of two uncharged, conductive, parallel plates."
   ]
  },
  {
   "cell_type": "markdown",
   "id": "393046ca",
   "metadata": {},
   "source": [
    "<figure>\n",
    "  <img src=\"12_2_images/Casimir-Effect-july14.png\" alt=\"Dirac sea\" width=\"500\">\n",
    "</figure>"
   ]
  },
  {
   "cell_type": "markdown",
   "id": "8ee12a29",
   "metadata": {},
   "source": [
    "If we suppose that this takes place in the vacuum, these plates will not move; the charge enclosed by any Gaussian surface will be zero is a more rigorous way of saying this. However, according to QED, there will be a macroscopic (albeit difficult to measure) attractive force resulting from QED vacuum fluctuations. I will briefly describe the explanation; however, be warned that we are about to discuss the controversy of this solution."
   ]
  },
  {
   "cell_type": "markdown",
   "id": "ba019024",
   "metadata": {},
   "source": [
    "### QED Vacuum Fluctuations as the Cause of the Casimir Effect"
   ]
  },
  {
   "cell_type": "markdown",
   "id": "4d214cef",
   "metadata": {},
   "source": [
    "To understand the initial solution, we must have a modern understanding of a field. We begin with our relativistic, Einstein energy-momentum relationship, using natural units (see Section_12_2_2.ipynb for explanation):\n",
    "$$\n",
    "E^2 = \\bold{p}^2 + m^2\n",
    "$$\n",
    "We can take a first approach at constructing a relativistic theory of quantum mechanics by writing everything in its operator form that acts on a wave function:\n",
    "$$\n",
    "\\hat{E}^2 \\psi(\\bold{x},t) = \\bold{\\hat{p}}^2 \\psi(\\bold{x},t) + m^2 \\psi(\\bold{x},t)\n",
    "$$\n",
    "Add in our quantum operators $\\bold{\\hat{p}}=-i\\bold{\\nabla}$ and $\\hat{E} = i\\frac{\\partial}{\\partial t}$, and we recover the Klein-Gordon wave equation.\n",
    "$$\n",
    "\\frac{\\partial^2 \\psi}{\\partial t^2} = \\bold{\\nabla}^2 \\psi - m^2\\psi\n",
    "$$\n",
    "or, in a more relativistic form, we have\n",
    "$$\n",
    "(\\partial^\\mu \\partial_\\mu + m^2)\\psi = 0\n",
    "$$\n",
    "The issues with the Klein-Gordon equation (the double derivative in time requires more information than in the Schrodinger equation, for example) prompted the search for the Dirac equation; nonetheless, this is sufficient to give us the intuition we need. The Klein-Gordon equation resembles the omnipresent harmonic oscillator equation. As expected, the solutions it admits are mathematically similar. Therefore, one can interpret the free field $\\psi(\\bold{x},t)$ as an infinite set of quantum harmonic oscillators. The quantum harmonic oscillator's ground state is $E_0=\\frac{1}{2}\\hbar \\omega$; notably, this is greater than 0. Like many great physicists before us, we will handwave away the fact that this implies that the vacuum contains infinite energy. Of course I'm kidding, but now we can see why this interpretation is problematic. Nonetheless, if we consider this, we can see that the vacuum would allow all modes whereas the nearly touching plates would restrict certain modes. This leads to a difference in energy---the region between the plates has less energy than the vacuum outside of this region, leading to an attractive force that pulls the plates together."
   ]
  },
  {
   "cell_type": "markdown",
   "id": "88eed8ca",
   "metadata": {},
   "source": [
    "<figure>\n",
    "  <img src=\"12_2_images/casimir_modes.png\" alt=\"Dirac sea\" width=\"500\">\n",
    "</figure>"
   ]
  },
  {
   "cell_type": "markdown",
   "id": "35be81db",
   "metadata": {},
   "source": [
    "This force has since been measured, and it does in fact exist. Note that this formula represents the force per unit area: \n",
    "$$\n",
    "\\mathcal{F} = -\\frac{\\hbar c \\pi^2}{240d^4}\n",
    "$$\n",
    "However, whether or not it arises from the QED vacuum may not necessarily be true. We will now explore alternative explanations that question this initial understanding of the Casimir effect."
   ]
  },
  {
   "cell_type": "markdown",
   "id": "bdbabf9d",
   "metadata": {},
   "source": [
    "### Other Explanations"
   ]
  },
  {
   "cell_type": "markdown",
   "id": "abc708b8",
   "metadata": {},
   "source": [
    "In his 2005 paper (https://arxiv.org/pdf/hep-th/0503158), Jaffe formulates the Casimir effect as arising from \"relativistic, quantum forces between charges and currents\". I will now attempt to parse this paper and give an overview of the research.\n",
    "\n",
    "Jaffe questions the status of the Casimir effect as definitive proof that QED vacuum fluctuations exist. Of course, they are part of the theory, but he questions whether or not the Casimir effect is sufficient to prove their physical reality. This is motivated by the fact that the vacuum energy density's theoretical contribtuion to the cosmological constant is close to 2 orders of magnitude higher than what is measured experimentally.\n",
    "\n",
    "Jaffe even includes this quote from Weinberg; according to this, perhaps the greatest physicist of our time was even convinced by the explanation of the Casimir effect being due to vacuum fluctuations."
   ]
  },
  {
   "cell_type": "markdown",
   "id": "4007ec42",
   "metadata": {},
   "source": [
    "<figure>\n",
    "  <img src=\"12_2_images/weinberg_funny.png\" alt=\"Dirac sea\" width=\"500\">\n",
    "  <figcaption> </figcaption>\n",
    "</figure>"
   ]
  },
  {
   "cell_type": "markdown",
   "id": "d55caf13",
   "metadata": {},
   "source": [
    "He claims that certain assumptions were made and then forgotten, including:\n",
    "* The Casimir effect is dependent on $\\alpha$, the fine structure constant that defines the coupling strength of the QED interaction. However, the force per unit area equation is in the limit $\\alpha \\rightarrow \\infty$. Ultimately, the Casimir force \"is simply the (relativistic, retarded) van der Waals force between the metal plates\"\n",
    "* He makes a very interesting analogy to how energy stored in the electric field is proportional to the integral of the electric field squared, noting that this does not prove that the electric field exists ontologically. All that it implies is that the electric field is useful for the computation of observables but not that it truly exists as we think. According to Jaffe, the original derivation of the Casimir effect is heuristic. We will revisit this later"
   ]
  },
  {
   "cell_type": "markdown",
   "id": "88074f89",
   "metadata": {},
   "source": [
    "As we learned in Chapter 9 of Griffiths, conductors are not perfect; they can be described by their skin depth and plasma frequency. Assumptions of idealized materials lead to a host of issues; for example, no object is perfectly rigid. Otherwise, one could communicate faster than the speed of light with an extremely long rigid body. Both of these constants depend on the fine structure constant."
   ]
  },
  {
   "cell_type": "markdown",
   "id": "201aaec8",
   "metadata": {},
   "source": [
    "Similar to our homework approximations, one can assume a perfect conductor if \n",
    "$$\n",
    "\\alpha >> \\frac{mc}{4\\pi\\hbar n d^2}\n",
    "$$"
   ]
  },
  {
   "cell_type": "markdown",
   "id": "28c21afc",
   "metadata": {},
   "source": [
    "where n is the total number of conduction electrons per unit volume (proportional to conductivity). With the materials and separation distances that the Casimir effect has been measured, this is satisfied, leading to the \"disappearance\" of $\\alpha$. This is because we have essentially treated the boundary as a boundary condition. Moreover, the Casimir force cancels out as $\\alpha \\rightarrow 0$ due to the fact that it arises from electromagnetic interactions and NOT from the boundary."
   ]
  },
  {
   "cell_type": "markdown",
   "id": "4ba0fa06",
   "metadata": {},
   "source": [
    "<figure>\n",
    "  <img src=\"12_2_images/qed_feyn.png\" alt=\"Dirac sea\" width=\"500\">\n",
    "  <figcaption>These are Feynman diagrams, which describe Standard Model interactions. These look atypical because they are loop diagrams of solely the vacuum state. According to Jaffe, these are heuristically used in the calculation of the Casimir force.</figcaption>\n",
    "</figure>"
   ]
  },
  {
   "cell_type": "markdown",
   "id": "cf893573",
   "metadata": {},
   "source": [
    "Through the use of Green's functions that are beyond the scope of this overview, we find the Casimir force to be:\n",
    "$$\n",
    "F(a,g,m)=-\\frac{g^2}{\\pi}\\int_m^\\infty \\frac{t^2 dt}{\\sqrt{t^2-m^2}} \\frac{e^{-2at}}{4t^2+4gt+g^2(1-e^{-2at})}\n",
    "$$\n",
    "where a is the separation distance, g is proportional to the coupling constant $\\alpha$, and m is representative of the field in the derivation. In our case, since photons are massless, m=0."
   ]
  },
  {
   "cell_type": "markdown",
   "id": "416bb3ca",
   "metadata": {},
   "source": [
    "Ultimately, we will have to look elsewhere for experimental proof of zero point energies."
   ]
  },
  {
   "cell_type": "markdown",
   "id": "366fd7e3",
   "metadata": {},
   "source": [
    "Enjoy this interactive plot of this generalized Casimir force description, which does not arise from vacuum fluctuations!"
   ]
  },
  {
   "cell_type": "code",
   "execution_count": 1,
   "id": "a646f52d",
   "metadata": {},
   "outputs": [
    {
     "data": {
      "application/vnd.jupyter.widget-view+json": {
       "model_id": "19b4f310ab3948e1b4efcf3bf821c231",
       "version_major": 2,
       "version_minor": 0
      },
      "text/plain": [
       "HBox(children=(FloatSlider(value=1.0, description='g', max=5.0), FloatSlider(value=0.0, description='m', max=2…"
      ]
     },
     "metadata": {},
     "output_type": "display_data"
    },
    {
     "data": {
      "application/vnd.jupyter.widget-view+json": {
       "model_id": "8189fdc66a19427ea50a8106b8907dfc",
       "version_major": 2,
       "version_minor": 0
      },
      "text/plain": [
       "Output()"
      ]
     },
     "metadata": {},
     "output_type": "display_data"
    }
   ],
   "source": [
    "import numpy as np\n",
    "import matplotlib.pyplot as plt\n",
    "from scipy.integrate import quad\n",
    "import ipywidgets as widgets\n",
    "from IPython.display import display\n",
    "\n",
    "# integrand\n",
    "def integrand(t, a, g, m):\n",
    "    try:\n",
    "        numerator = t**2 * np.exp(-2 * a * t)\n",
    "        denominator = np.sqrt(t**2 - m**2) * (4 * t**2 + 4 * g * t + g**2 * (1 - np.exp(-2 * a * t)))\n",
    "        return numerator / denominator\n",
    "    except:\n",
    "        return 0  # Avoid numerical issues\n",
    "\n",
    "# Approximate generalized casimir force with cutoff\n",
    "def F(a, g, m, t_max=50):\n",
    "    t_min = m + 1e-5  # avoid sqrt(0) if m=0\n",
    "    upper_limit = min(t_max, 10 / a + m)  # exponential cutoff\n",
    "    result, error = quad(integrand, t_min, upper_limit, args=(a, g, m), limit=50)\n",
    "    return -g**2 / np.pi * result # dont forget the constants!\n",
    "\n",
    "# Plotting function\n",
    "def plot_force(a=1.0, g=1.0, m=0.0):\n",
    "    a_vals = np.linspace(0.1, 5, 100)  # fewer points makes it faster\n",
    "    F_vals = []\n",
    "\n",
    "    for a_val in a_vals:\n",
    "        try:\n",
    "            force = F(a_val, g, m)\n",
    "        except Exception:\n",
    "            force = np.nan\n",
    "        F_vals.append(force)\n",
    "\n",
    "    plt.figure(figsize=(8, 5))\n",
    "    plt.plot(a_vals, F_vals, label=f'g={g}, m={m}')\n",
    "    plt.xlabel('Separation a')\n",
    "    plt.ylabel('Force F(a, g, m)')\n",
    "    plt.title('Casimir-like Force vs. Separation')\n",
    "    plt.grid(True)\n",
    "    plt.legend()\n",
    "    plt.show()\n",
    "\n",
    "# Interactive UI\n",
    "g_slider = widgets.FloatSlider(value=1.0, min=0.0, max=5.0, step=0.1, description='g')\n",
    "m_slider = widgets.FloatSlider(value=0.0, min=0.0, max=2.0, step=0.05, description='m')\n",
    "\n",
    "ui = widgets.HBox([g_slider, m_slider])\n",
    "out = widgets.interactive_output(plot_force, {'g': g_slider, 'm': m_slider})\n",
    "\n",
    "display(ui, out)"
   ]
  },
  {
   "cell_type": "code",
   "execution_count": null,
   "id": "4a28afd8",
   "metadata": {},
   "outputs": [],
   "source": []
  }
 ],
 "metadata": {
  "kernelspec": {
   "display_name": "Electro2",
   "language": "python",
   "name": "python3"
  },
  "language_info": {
   "codemirror_mode": {
    "name": "ipython",
    "version": 3
   },
   "file_extension": ".py",
   "mimetype": "text/x-python",
   "name": "python",
   "nbconvert_exporter": "python",
   "pygments_lexer": "ipython3",
   "version": "3.11.11"
  }
 },
 "nbformat": 4,
 "nbformat_minor": 5
}
