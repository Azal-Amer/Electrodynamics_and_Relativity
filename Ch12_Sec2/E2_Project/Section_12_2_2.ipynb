{
 "cells": [
  {
   "cell_type": "markdown",
   "id": "873212ba",
   "metadata": {},
   "source": [
    "# Section 12.2.2: Relativistic Energy and Momentum"
   ]
  },
  {
   "cell_type": "markdown",
   "id": "ef5c22e1",
   "metadata": {},
   "source": [
    "![Trump Einstein](12_2_images/trump_irrelevant.jpg)\\\n",
    "(I don't get the joke this meme is trying to make and that makes it funnier)"
   ]
  },
  {
   "cell_type": "markdown",
   "id": "aacdede8",
   "metadata": {},
   "source": [
    "Noether's Theorem regarding conservation of momentum is sacred and can never be broken (see problem 12.29 in Griffiths); as such, we define relativistic momentum as:\n",
    "\n",
    "$$\n",
    "\\bold{p} = m\\bold{\\eta} = \\frac{m\\bold{u}}{\\sqrt{1-u^2/c^2}}\n",
    "$$\n",
    "\n",
    "In 4-vector notation, this is:\n",
    "\n",
    "$$\n",
    "p^\\mu = m \\eta^\\mu\n",
    "$$\n",
    "\n",
    "Einstein also defines:\n",
    "$$\n",
    "p^0c \\equiv E \\equiv \\frac{mc^2}{\\sqrt{1-u^2/c^2}}\n",
    "$$\n",
    "\n",
    "Famously, as you have probably heard before, even the mass at rest has energy. Evaluating this at $u=0$ gives:\n",
    "$$\n",
    "E_{rest}=mc^2\n",
    "$$"
   ]
  },
  {
   "cell_type": "markdown",
   "id": "336687b4",
   "metadata": {},
   "source": [
    "Everything else that isn't the rest energy is kinetic; therefore,\n",
    "$$\n",
    "E_{kin} = E - E_{rest} = \\frac{mc^2}{\\sqrt{1-u^2/c^2}} - mc^2\n",
    "$$\n",
    "What's very nice is that in the nonrelativistic regime $u << c$, we can Taylor expand the square root and recover\n",
    "$$\n",
    "E_{kin} \\approx \\frac{1}{2}mu^2 \\text{   ; $u << c$}\n",
    "$$\n",
    "This is vital to all theories in the sense that we must check that our new theories can recover our established equation and rules. This is similar to the classical theory of gravity in that we recover $F=-mg\\hat{z}$ for objects that are close to the Earth. We cannot have our new theories be incompatible with our old ones without some clever explanation."
   ]
  },
  {
   "cell_type": "markdown",
   "id": "d921f23b",
   "metadata": {},
   "source": [
    "Ultimately, we arrive at:\n",
    "$$\n",
    "E^2 - p^2c^2 = m^2c^4\n",
    "$$"
   ]
  },
  {
   "cell_type": "markdown",
   "id": "305e6b27",
   "metadata": {},
   "source": [
    "### BONUS!"
   ]
  },
  {
   "cell_type": "markdown",
   "id": "b16c6550",
   "metadata": {},
   "source": [
    "$c = 3 \\times 10^8$ m/s makes you happy, doesn't it? What if I made you unhappy by making $c=1$? Although, Griffiths doesn't have a chance to touch on this, it's important to talk about <span style=\"color:red\">natural units</span>, because they come up often in relativistic particle physics and other fields where relativistic frames are typical. Essentially, a simplification is made where $c=1$ in order so that constants don't obscure the algebra. The idea is that we can simply add them back later via simple dimensional analysis. In particle physics, this has the consequence of rendering our equation\n",
    "$$\n",
    "E^2 - p^2 = m^2\n",
    "$$\n",
    "Where [E] = [GeV], [p]=[GeV/c], and [m]=[GeV/c^2] also becomes [E] = [GeV], [p]=[GeV], and [m]=[GeV]. With natural units, GeV now becomes energy, momentum, or mass depending on the context. If we want to go back to normal units, we can just multiply by the appropriate 1, $c$, or $c^2$ respectively."
   ]
  }
 ],
 "metadata": {
  "language_info": {
   "name": "python"
  }
 },
 "nbformat": 4,
 "nbformat_minor": 5
}
