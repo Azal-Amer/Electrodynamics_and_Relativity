{
 "cells": [
  {
   "cell_type": "markdown",
   "id": "d3f5f9a1",
   "metadata": {},
   "source": [
    "# Section 12.2.1: Proper Time and Proper Velocity"
   ]
  },
  {
   "cell_type": "markdown",
   "id": "e26a0ef7",
   "metadata": {},
   "source": [
    "![Time Dilation](12_2_images/time_dilation_trump_2.png)"
   ]
  },
  {
   "cell_type": "markdown",
   "id": "42fbd9b0",
   "metadata": {},
   "source": [
    "Let's again consider the effects of time dilation. However, let's now consider a differential time step of \n",
    "$$\n",
    "d\\tau = dt \\sqrt{1 - \\frac{u^2}{c^2}}\n",
    "$$\n",
    "where $\\tau$ is the proper time. According to Griffiths, this makes since if you're a French person because \"propre\" means your own. Since this is in your own frame, it will always be invariant, making it useful in the regard."
   ]
  },
  {
   "cell_type": "markdown",
   "id": "ab763c5b",
   "metadata": {},
   "source": [
    "The difference between the two is pretty straightforward. We have ordinary velocity, which is length in some external reference frame (coordinate distance) over time in that same frame (coordinate frame):\n",
    "$$\n",
    "\\bold{u} = \\frac{d\\bold{l}}{dt}\n",
    "$$"
   ]
  },
  {
   "cell_type": "markdown",
   "id": "7480657f",
   "metadata": {},
   "source": [
    "But coordinate time may not always the most relevant to you, perhaps you're more interested in how much distance you travel in this external frame over YOUR time:\n",
    "$$\n",
    "\\bold{\\eta}=\\frac{d\\bold{l}}{d\\tau}\n",
    "$$"
   ]
  },
  {
   "cell_type": "markdown",
   "id": "b0ae6823",
   "metadata": {},
   "source": [
    "If we insert these into our equation that relates these differential time steps, we get:\n",
    "$$\n",
    "\\bold{\\eta} = \\frac{1}{\\sqrt{1-u^2/c^2}} \\bold{u}\n",
    "$$"
   ]
  },
  {
   "cell_type": "markdown",
   "id": "efc0821d",
   "metadata": {},
   "source": [
    "Since the proper time is our own time, it transforms very simply from one inertial system to another. Starting with\n",
    "$$\n",
    "\\eta^\\mu = \\frac{dx^\\mu}{d\\tau}\n",
    "$$"
   ]
  },
  {
   "cell_type": "markdown",
   "id": "15a5e818",
   "metadata": {},
   "source": [
    "When transforming from system $S$ to system $\\bar{S}$ that moves at speed $v$ along the common $x\\bar{x}$ axis, we accordinly get the equations 12.18 \n",
    "$$\n",
    "\\bar{t} = \\gamma (t - \\frac{v}{c^2}x) \\\\\n",
    "\\bar{x} = \\gamma (x - v t) \\\\\n",
    "\\bar{y} = y \\\\\n",
    "\\bar{z} = z\n",
    "$$\n",
    "with the derivatives applied using the differential proper time interval\n",
    "$$\n",
    "\\bar{t} = \\gamma (\\eta^0 - \\beta\\eta^1) \\\\\n",
    "\\bar{\\eta}^1 = \\gamma (\\eta^1 - \\beta \\eta^0) \\\\\n",
    "\\bar{\\eta}^2 = \\eta^2 \\\\\n",
    "\\bar{\\eta}^3 = \\eta^3\n",
    "$$"
   ]
  },
  {
   "cell_type": "markdown",
   "id": "a11d1331",
   "metadata": {},
   "source": [
    "To become more acquainted with notation in the literature, this is\n",
    "$$\n",
    "\\bar{\\eta}^\\mu = \\Lambda^\\mu_\\nu \\eta^\\nu\n",
    "$$\n",
    "using a tensor contraction. The transformation rules for ordinary velocity require a change in both differentials and can be found in the book."
   ]
  },
  {
   "cell_type": "markdown",
   "id": "0fc0af96",
   "metadata": {},
   "source": [
    "### BONUS!"
   ]
  },
  {
   "cell_type": "markdown",
   "id": "b511efea",
   "metadata": {},
   "source": [
    "Let's make things more interesting by talking about the <span style=\"color:red\">Relativistic Doppler effect</span> (refer to the associated html to play around with a simple plot of this). The equations describing this phenomenon take on a slightly new form, so let's derive it. Consider a source moving towards a stationary observer.\n",
    "\n",
    "We will first make use of the Lorentz transformations:\n",
    "$$\n",
    "\\bar{t} = \\gamma(t - \\frac{vx}{c^2})\n",
    "$$\n",
    "and\n",
    "$$\n",
    "\\bar{x} = \\gamma(x - vt)\n",
    "$$\n",
    "\n",
    "\n",
    "Firstly, by convention, $v \\rightarrow -v$ since the source is moving towards the observer. Secondly, let's say we have two events that occur at $(0,0)$ and $(\\tau,0)$ in the source's rest frame, where $\\tau$ is the period of the wave in the source's frame. WLOG and for convenience, we can say that the observer and source experience the event at $(0,0)$ simulataneously.\\\n",
    "The second spacetime event, which does not occur simulataneously, thereby transforms to\n",
    "$$\n",
    "\\bar{t} = \\gamma(t - \\frac{vx}{c^2}) = \\gamma\\tau\n",
    "$$\n",
    "and\n",
    "$$\n",
    "\\bar{x} = \\gamma(x - vt) = \\gamma v \\tau\n",
    "$$\n",
    "Meaning that the second event occurs at $(\\gamma\\tau,\\gamma v \\tau)$ in the observer's frame. Because the event is spatially at a distance $\\gamma v \\tau$, the observer has to wait not only for the event to occur in their frame but ALSO the time it takes for the light to travel that distance, $\\gamma v \\tau /c$; therefore, the observer sees the signal at\n",
    "$$\n",
    "\\tau_{obs} = \\gamma\\tau_{src} + \\gamma v \\tau_{src}/c\n",
    "$$\n",
    "Since $\\tau_{obs} = 1/f_{obs}$ and $\\tau_{src} = 1/f_{src}$, we can rearrange to get:\n",
    "$$\n",
    "\n",
    "$$"
   ]
  },
  {
   "cell_type": "markdown",
   "id": "ac2e5548",
   "metadata": {},
   "source": [
    "$$\n",
    "\\frac{f_{src}}{f_{obs}} = \\gamma(1 + v/c) = \\frac{1+ v/c}{\\sqrt{1-v^2/c^2}} = \\frac{1+ v/c}{\\sqrt{(1-v/c)(1+v/c))}} = \\sqrt{\\frac{1+v/c}{1-v/c}}\n",
    "$$"
   ]
  },
  {
   "cell_type": "markdown",
   "id": "6b940444",
   "metadata": {},
   "source": [
    "Another derivation may not seem very interesting, but this is relevant to astrophysics and relativistic beaming, in which relativistic aberration, time dilation, and the doppler shifting can affect the apparent brightness of a source."
   ]
  },
  {
   "cell_type": "markdown",
   "id": "83587a25",
   "metadata": {},
   "source": [
    "![Relativistic Beaming](12_2_images/radio_galaxy_3C31.png)"
   ]
  },
  {
   "cell_type": "markdown",
   "id": "e3d5e740",
   "metadata": {},
   "source": [
    "Here, you can see this effect from a jet that is pointed towards Earth while the plumes are pointed away."
   ]
  }
 ],
 "metadata": {
  "kernelspec": {
   "display_name": "Electro2",
   "language": "python",
   "name": "python3"
  },
  "language_info": {
   "name": "python",
   "version": "3.11.11"
  }
 },
 "nbformat": 4,
 "nbformat_minor": 5
}
